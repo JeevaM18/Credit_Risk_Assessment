{
  "nbformat": 4,
  "nbformat_minor": 0,
  "metadata": {
    "colab": {
      "provenance": []
    },
    "kernelspec": {
      "name": "python3",
      "display_name": "Python 3"
    },
    "language_info": {
      "name": "python"
    }
  },
  "cells": [
    {
      "cell_type": "code",
      "execution_count": 1,
      "metadata": {
        "colab": {
          "base_uri": "https://localhost:8080/"
        },
        "id": "G0EK1JaHF61b",
        "outputId": "158500b7-276b-4d86-ffa5-e590b2a359ac"
      },
      "outputs": [
        {
          "output_type": "stream",
          "name": "stdout",
          "text": [
            "   User ID Sentiment  Posts Frequency Influencer Engagement Income Level\n",
            "0        1   Neutral                6                  High       Medium\n",
            "1        2  Positive               15                  High         High\n",
            "2        3  Negative                3                  High       Medium\n",
            "3        4   Neutral                5                   Low       Medium\n",
            "4        5  Positive                5                  High       Medium\n"
          ]
        }
      ],
      "source": [
        "import pandas as pd\n",
        "import random\n",
        "import numpy as np\n",
        "\n",
        "# Define User IDs and Sentiment Categories\n",
        "user_ids = list(range(1, 101))  # 100 user IDs\n",
        "sentiment_categories = ['Positive', 'Negative', 'Neutral']\n",
        "luxury_brands_engagement = ['High', 'Medium', 'Low']\n",
        "\n",
        "# Define Logic for Sentiment & Frequency of Posts\n",
        "social_media_data = []\n",
        "\n",
        "# Randomly generate sentiment data and post frequency\n",
        "for user_id in user_ids:\n",
        "    sentiment = random.choice(sentiment_categories)\n",
        "    posts_frequency = random.randint(1, 15)  # Number of posts per month\n",
        "    influencer_engagement = random.choice(luxury_brands_engagement)\n",
        "\n",
        "    # Assuming frequent posters with positive sentiment may be affluent\n",
        "    income_level = \"High\" if sentiment == \"Positive\" and posts_frequency > 10 else \"Medium\"\n",
        "\n",
        "    social_media_data.append([user_id, sentiment, posts_frequency, influencer_engagement, income_level])\n",
        "\n",
        "# Create DataFrame\n",
        "social_media_df = pd.DataFrame(social_media_data, columns=['User ID', 'Sentiment', 'Posts Frequency', 'Influencer Engagement', 'Income Level'])\n",
        "\n",
        "# Show Sample Data\n",
        "print(social_media_df.head())\n"
      ]
    },
    {
      "cell_type": "code",
      "source": [
        "from google.colab import files\n",
        "\n",
        "# Download the DataFrame as a CSV file\n",
        "social_media_df.to_csv('social_media_df.csv', index=False)\n",
        "files.download('social_media_df.csv')"
      ],
      "metadata": {
        "colab": {
          "base_uri": "https://localhost:8080/",
          "height": 17
        },
        "id": "Uigd56ihGO38",
        "outputId": "68cf4c6e-9d0e-4bf9-d159-888857ab5d07"
      },
      "execution_count": 7,
      "outputs": [
        {
          "output_type": "display_data",
          "data": {
            "text/plain": [
              "<IPython.core.display.Javascript object>"
            ],
            "application/javascript": [
              "\n",
              "    async function download(id, filename, size) {\n",
              "      if (!google.colab.kernel.accessAllowed) {\n",
              "        return;\n",
              "      }\n",
              "      const div = document.createElement('div');\n",
              "      const label = document.createElement('label');\n",
              "      label.textContent = `Downloading \"${filename}\": `;\n",
              "      div.appendChild(label);\n",
              "      const progress = document.createElement('progress');\n",
              "      progress.max = size;\n",
              "      div.appendChild(progress);\n",
              "      document.body.appendChild(div);\n",
              "\n",
              "      const buffers = [];\n",
              "      let downloaded = 0;\n",
              "\n",
              "      const channel = await google.colab.kernel.comms.open(id);\n",
              "      // Send a message to notify the kernel that we're ready.\n",
              "      channel.send({})\n",
              "\n",
              "      for await (const message of channel.messages) {\n",
              "        // Send a message to notify the kernel that we're ready.\n",
              "        channel.send({})\n",
              "        if (message.buffers) {\n",
              "          for (const buffer of message.buffers) {\n",
              "            buffers.push(buffer);\n",
              "            downloaded += buffer.byteLength;\n",
              "            progress.value = downloaded;\n",
              "          }\n",
              "        }\n",
              "      }\n",
              "      const blob = new Blob(buffers, {type: 'application/binary'});\n",
              "      const a = document.createElement('a');\n",
              "      a.href = window.URL.createObjectURL(blob);\n",
              "      a.download = filename;\n",
              "      div.appendChild(a);\n",
              "      a.click();\n",
              "      div.remove();\n",
              "    }\n",
              "  "
            ]
          },
          "metadata": {}
        },
        {
          "output_type": "display_data",
          "data": {
            "text/plain": [
              "<IPython.core.display.Javascript object>"
            ],
            "application/javascript": [
              "download(\"download_7a9a41eb-e09a-49df-b257-2a99fcddf32e\", \"social_media_df.csv\", 2670)"
            ]
          },
          "metadata": {}
        }
      ]
    },
    {
      "cell_type": "code",
      "source": [
        "social_sentiment_df = pd.DataFrame(social_media_df)\n",
        "\n",
        "# Encoding categorical features\n",
        "social_sentiment_df['Sentiment'] = social_sentiment_df['Sentiment'].map({'Neutral': 1, 'Positive': 2, 'Negative': 3})\n",
        "social_sentiment_df['Influencer Engagement'] = social_sentiment_df['Influencer Engagement'].map({'Low': 1, 'Medium': 2, 'High': 3})\n",
        "social_sentiment_df['Income Level'] = social_sentiment_df['Income Level'].map({'High': 1, 'Medium': 2, 'Low': 3})\n",
        "\n",
        "# Features and target variable\n",
        "X_sm = social_sentiment_df[['Sentiment', 'Posts Frequency', 'Influencer Engagement']]\n",
        "y_sm = social_sentiment_df['Income Level']\n",
        "from sklearn.model_selection import train_test_split\n",
        "# Train-Test Split\n",
        "X_train_sm, X_test_sm, y_train_sm, y_test_sm = train_test_split(X_sm, y_sm, test_size=0.2, random_state=42)\n",
        "from sklearn.ensemble import RandomForestClassifier\n",
        "from sklearn.metrics import accuracy_score\n",
        "# Model: Random Forest Classifier\n",
        "sm_model = RandomForestClassifier()\n",
        "sm_model.fit(X_train_sm, y_train_sm)\n",
        "\n",
        "# Predictions and Evaluation\n",
        "y_pred_sm = sm_model.predict(X_test_sm)\n",
        "accuracy_sm = accuracy_score(y_test_sm, y_pred_sm)\n",
        "print(f\"Social Media Sentiment Model Accuracy: {accuracy_sm}\")"
      ],
      "metadata": {
        "colab": {
          "base_uri": "https://localhost:8080/"
        },
        "id": "LM9RfpnuMJ0H",
        "outputId": "b5c61321-b379-40ad-cdbd-1fb0c23918d0"
      },
      "execution_count": 12,
      "outputs": [
        {
          "output_type": "stream",
          "name": "stdout",
          "text": [
            "Social Media Sentiment Model Accuracy: 1.0\n"
          ]
        }
      ]
    },
    {
      "cell_type": "code",
      "source": [
        "import pandas as pd\n",
        "import random\n",
        "\n",
        "# Define Area Locations in Chennai and corresponding Income Levels\n",
        "areas_in_chennai = {\n",
        "    \"Adyar\": \"High\",\n",
        "    \"T. Nagar\": \"Medium\",\n",
        "    \"Anna Nagar\": \"High\",\n",
        "    \"Velachery\": \"Medium\",\n",
        "    \"Guindy\": \"Medium\",\n",
        "    \"Kodambakkam\": \"Low\",\n",
        "    \"Mylapore\": \"High\",\n",
        "    \"Ekkatuthangal\": \"Medium\",\n",
        "    \"Porur\": \"Low\",\n",
        "    \"Ooty\": \"High\"\n",
        "}\n",
        "\n",
        "# Define User IDs\n",
        "user_ids = list(range(1, 101))\n",
        "\n",
        "# Generate Geolocation Data\n",
        "geolocation_data = []\n",
        "\n",
        "for user_id in user_ids:\n",
        "    # Randomly assign a user to one of the areas in Chennai\n",
        "    area = random.choice(list(areas_in_chennai.keys()))\n",
        "\n",
        "    # Corresponding income level to area\n",
        "    income_level = areas_in_chennai[area]\n",
        "\n",
        "    # Simulate distance to luxury stores (0 - 20 km)\n",
        "    distance_to_luxury_store = random.randint(0, 20)\n",
        "\n",
        "    geolocation_data.append([user_id, area, income_level, distance_to_luxury_store])\n",
        "\n",
        "# Create DataFrame\n",
        "geolocation_df = pd.DataFrame(geolocation_data, columns=['User ID', 'Area', 'Income Level', 'Distance to Luxury Store'])\n",
        "\n",
        "# Show Sample Data\n",
        "print(geolocation_df.head())\n"
      ],
      "metadata": {
        "colab": {
          "base_uri": "https://localhost:8080/"
        },
        "id": "n-tqM8dsHW9X",
        "outputId": "2c397033-b69c-4670-ba4e-a3ebc57f1347"
      },
      "execution_count": 8,
      "outputs": [
        {
          "output_type": "stream",
          "name": "stdout",
          "text": [
            "   User ID        Area Income Level  Distance to Luxury Store\n",
            "0        1  Anna Nagar         High                        15\n",
            "1        2    T. Nagar       Medium                        11\n",
            "2        3    T. Nagar       Medium                         1\n",
            "3        4    Mylapore         High                         5\n",
            "4        5       Adyar         High                         7\n"
          ]
        }
      ]
    },
    {
      "cell_type": "code",
      "source": [
        "from google.colab import files\n",
        "\n",
        "# Download the DataFrame as a CSV file\n",
        "social_media_df.to_csv('geolocation_df.csv', index=False)\n",
        "files.download('geolocation_df.csv')"
      ],
      "metadata": {
        "colab": {
          "base_uri": "https://localhost:8080/",
          "height": 17
        },
        "id": "e28J70dsHjlh",
        "outputId": "988211fc-2c87-4d88-e904-dfd97f5ad806"
      },
      "execution_count": 9,
      "outputs": [
        {
          "output_type": "display_data",
          "data": {
            "text/plain": [
              "<IPython.core.display.Javascript object>"
            ],
            "application/javascript": [
              "\n",
              "    async function download(id, filename, size) {\n",
              "      if (!google.colab.kernel.accessAllowed) {\n",
              "        return;\n",
              "      }\n",
              "      const div = document.createElement('div');\n",
              "      const label = document.createElement('label');\n",
              "      label.textContent = `Downloading \"${filename}\": `;\n",
              "      div.appendChild(label);\n",
              "      const progress = document.createElement('progress');\n",
              "      progress.max = size;\n",
              "      div.appendChild(progress);\n",
              "      document.body.appendChild(div);\n",
              "\n",
              "      const buffers = [];\n",
              "      let downloaded = 0;\n",
              "\n",
              "      const channel = await google.colab.kernel.comms.open(id);\n",
              "      // Send a message to notify the kernel that we're ready.\n",
              "      channel.send({})\n",
              "\n",
              "      for await (const message of channel.messages) {\n",
              "        // Send a message to notify the kernel that we're ready.\n",
              "        channel.send({})\n",
              "        if (message.buffers) {\n",
              "          for (const buffer of message.buffers) {\n",
              "            buffers.push(buffer);\n",
              "            downloaded += buffer.byteLength;\n",
              "            progress.value = downloaded;\n",
              "          }\n",
              "        }\n",
              "      }\n",
              "      const blob = new Blob(buffers, {type: 'application/binary'});\n",
              "      const a = document.createElement('a');\n",
              "      a.href = window.URL.createObjectURL(blob);\n",
              "      a.download = filename;\n",
              "      div.appendChild(a);\n",
              "      a.click();\n",
              "      div.remove();\n",
              "    }\n",
              "  "
            ]
          },
          "metadata": {}
        },
        {
          "output_type": "display_data",
          "data": {
            "text/plain": [
              "<IPython.core.display.Javascript object>"
            ],
            "application/javascript": [
              "download(\"download_30fa80ff-f179-4750-a569-ba8ad66599a6\", \"geolocation_df.csv\", 2670)"
            ]
          },
          "metadata": {}
        }
      ]
    }
  ]
}